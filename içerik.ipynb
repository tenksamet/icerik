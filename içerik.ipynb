{
  "nbformat": 4,
  "nbformat_minor": 0,
  "metadata": {
    "colab": {
      "provenance": [],
      "authorship_tag": "ABX9TyOP+m+lxPJvvvXynDeW/DNi",
      "include_colab_link": true
    },
    "kernelspec": {
      "name": "python3",
      "display_name": "Python 3"
    },
    "language_info": {
      "name": "python"
    }
  },
  "cells": [
    {
      "cell_type": "markdown",
      "metadata": {
        "id": "view-in-github",
        "colab_type": "text"
      },
      "source": [
        "<a href=\"https://colab.research.google.com/github/tenksamet/icerik/blob/main/i%C3%A7erik.ipynb\" target=\"_parent\"><img src=\"https://colab.research.google.com/assets/colab-badge.svg\" alt=\"Open In Colab\"/></a>"
      ]
    },
    {
      "cell_type": "code",
      "execution_count": 1,
      "metadata": {
        "colab": {
          "base_uri": "https://localhost:8080/"
        },
        "id": "i7UXpORp1St1",
        "outputId": "9138cb4e-211f-462e-e2fa-bb624759f4a9"
      },
      "outputs": [
        {
          "output_type": "stream",
          "name": "stdout",
          "text": [
            "Title: Rahatsızlanan Mahir Polat yeniden Silivri’ye gönderildi!  - Son Dakika Haberler\n",
            "Tarih: 2025-04-07T12:56:00+03:00\n",
            "İçerik: İstanbul Büyükşehir Belediyesi'ne yönelik başlatılan operasyonlar kapsamından tutuklanan İBB Genel Sekreter Yardımcısı Mahir Polat'ın bugün sağlık sorunları nedeniyle adli tıp kurumuna sevk edildiği açıklandı. Mahir Polat'ın Avukatı Erkam Erdem, Polat'ın tansiyonun 19-11 düzeyinde olduğunun vurgulamıştı.\n",
            "Rahatsızlığının ciddileşmesinden dolayı sağlık sorunları nedeniyle Adli Tıp Kurumu’na sevk edilen Mahir Polat’ın, buradaki muayenesinin ardından tahliye edilmesi için sağlık raporu alması beklenirken, tekrardan Marmara cezaevinden gönderildi.\n"
          ]
        }
      ],
      "source": [
        "import requests\n",
        "from bs4 import BeautifulSoup\n",
        "\n",
        "url = 'https://www.milligazete.com.tr/haber/24487335/rahatsizlanan-mahir-polat-yeniden-silivriye-gonderildi'\n",
        "\n",
        "def abc(sayfa_url):\n",
        "    r = requests.get(sayfa_url)\n",
        "    soup = BeautifulSoup(r.content, 'html.parser')\n",
        "    title = soup.find(\"title\").get_text(strip=True)\n",
        "    meta_date = soup.find(\"meta\", attrs={\"name\": \"datePublished\"})\n",
        "    tarih = meta_date[\"content\"]\n",
        "\n",
        "    content_div = soup.find(\"article\")\n",
        "    paragraf = content_div.find_all(\"p\")\n",
        "    icerik = \"\\n\".join(p.get_text(strip=True) for p in paragraf)\n",
        "\n",
        "    return title, tarih, icerik\n",
        "\n",
        "title, tarih, icerik = abc(url)\n",
        "print(\"Title:\", title)\n",
        "print(\"Tarih:\", tarih)\n",
        "print(\"İçerik:\", icerik)"
      ]
    }
  ]
}